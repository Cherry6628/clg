{
 "cells": [
  {
   "cell_type": "markdown",
   "id": "549cd13b-65e6-46de-b666-8832e7afc382",
   "metadata": {},
   "source": [
    "Ex.No:9 Implement an Opinion Mining in Recurrent Neural \n",
    "network."
   ]
  },
  {
   "cell_type": "markdown",
   "id": "3876ad46-db19-454d-824f-018b8e268bcf",
   "metadata": {},
   "source": [
    "AIM: \n",
    "To write python coding for opinion mining in recurrent neural network"
   ]
  },
  {
   "cell_type": "code",
   "execution_count": 22,
   "id": "2556bb45-59de-43a9-aed5-4a484e922334",
   "metadata": {},
   "outputs": [
    {
     "name": "stdout",
     "output_type": "stream",
     "text": [
      "[False, True, True, True, True]\n"
     ]
    },
    {
     "ename": "ValueError",
     "evalue": "Invalid dtype: str3328",
     "output_type": "error",
     "traceback": [
      "\u001b[1;31m---------------------------------------------------------------------------\u001b[0m",
      "\u001b[1;31mValueError\u001b[0m                                Traceback (most recent call last)",
      "Cell \u001b[1;32mIn[22], line 17\u001b[0m\n\u001b[0;32m     15\u001b[0m \u001b[38;5;66;03m# predict on a sample text without padding.\u001b[39;00m\n\u001b[0;32m     16\u001b[0m sample_text \u001b[38;5;241m=\u001b[39m (\u001b[38;5;124m'\u001b[39m\u001b[38;5;124mThe movie was cool. The animation and the graphics \u001b[39m\u001b[38;5;124m'\u001b[39m \u001b[38;5;124m'\u001b[39m\u001b[38;5;124mwere out of this world. I would recommend this movie.\u001b[39m\u001b[38;5;124m'\u001b[39m)\n\u001b[1;32m---> 17\u001b[0m predictions \u001b[38;5;241m=\u001b[39m \u001b[43mmodel\u001b[49m\u001b[38;5;241;43m.\u001b[39;49m\u001b[43mpredict\u001b[49m\u001b[43m(\u001b[49m\u001b[43mnp\u001b[49m\u001b[38;5;241;43m.\u001b[39;49m\u001b[43marray\u001b[49m\u001b[43m(\u001b[49m\u001b[43m[\u001b[49m\u001b[43msample_text\u001b[49m\u001b[43m]\u001b[49m\u001b[43m)\u001b[49m\u001b[43m)\u001b[49m\n\u001b[0;32m     18\u001b[0m \u001b[38;5;28mprint\u001b[39m(predictions[\u001b[38;5;241m0\u001b[39m])\n\u001b[0;32m     19\u001b[0m [\u001b[38;5;241m-\u001b[39m\u001b[38;5;241m0.00367973\u001b[39m]\n",
      "File \u001b[1;32mD:\\_z_\\Anaconda_Projects\\Lib\\site-packages\\keras\\src\\utils\\traceback_utils.py:122\u001b[0m, in \u001b[0;36mfilter_traceback.<locals>.error_handler\u001b[1;34m(*args, **kwargs)\u001b[0m\n\u001b[0;32m    119\u001b[0m     filtered_tb \u001b[38;5;241m=\u001b[39m _process_traceback_frames(e\u001b[38;5;241m.\u001b[39m__traceback__)\n\u001b[0;32m    120\u001b[0m     \u001b[38;5;66;03m# To get the full stack trace, call:\u001b[39;00m\n\u001b[0;32m    121\u001b[0m     \u001b[38;5;66;03m# `keras.config.disable_traceback_filtering()`\u001b[39;00m\n\u001b[1;32m--> 122\u001b[0m     \u001b[38;5;28;01mraise\u001b[39;00m e\u001b[38;5;241m.\u001b[39mwith_traceback(filtered_tb) \u001b[38;5;28;01mfrom\u001b[39;00m \u001b[38;5;28;01mNone\u001b[39;00m\n\u001b[0;32m    123\u001b[0m \u001b[38;5;28;01mfinally\u001b[39;00m:\n\u001b[0;32m    124\u001b[0m     \u001b[38;5;28;01mdel\u001b[39;00m filtered_tb\n",
      "File \u001b[1;32mD:\\_z_\\Anaconda_Projects\\Lib\\site-packages\\optree\\ops.py:521\u001b[0m, in \u001b[0;36mtree_map\u001b[1;34m(func, tree, is_leaf, none_is_leaf, namespace, *rests)\u001b[0m\n\u001b[0;32m    519\u001b[0m flat_args \u001b[38;5;241m=\u001b[39m [leaves] \u001b[38;5;241m+\u001b[39m [treespec\u001b[38;5;241m.\u001b[39mflatten_up_to(r) \u001b[38;5;28;01mfor\u001b[39;00m r \u001b[38;5;129;01min\u001b[39;00m rests]\n\u001b[0;32m    520\u001b[0m flat_results \u001b[38;5;241m=\u001b[39m \u001b[38;5;28mmap\u001b[39m(func, \u001b[38;5;241m*\u001b[39mflat_args)\n\u001b[1;32m--> 521\u001b[0m \u001b[38;5;28;01mreturn\u001b[39;00m \u001b[43mtreespec\u001b[49m\u001b[38;5;241;43m.\u001b[39;49m\u001b[43munflatten\u001b[49m\u001b[43m(\u001b[49m\u001b[43mflat_results\u001b[49m\u001b[43m)\u001b[49m\n",
      "\u001b[1;31mValueError\u001b[0m: Invalid dtype: str3328"
     ]
    }
   ],
   "source": [
    "import numpy as np\n",
    "import tensorflow as tf\n",
    "import matplotlib.pyplot as plt\n",
    "encoder = tf.keras.layers.TextVectorization(max_tokens=10000)\n",
    "model = tf.keras.Sequential([\n",
    "encoder,\n",
    "tf.keras.layers.Embedding(\n",
    "input_dim=len(encoder.get_vocabulary()),\n",
    "output_dim=64,\n",
    "# Use masking to handle the variable sequence lengths\n",
    "mask_zero=True),\n",
    "tf.keras.layers.Bidirectional(tf.keras.layers.LSTM(64)),\n",
    "tf.keras.layers.Dense(64, activation='relu'),tf.keras.layers.Dense(1)])\n",
    "print([layer.supports_masking for layer in model.layers])\n",
    "# predict on a sample text without padding.\n",
    "sample_text = ('The movie was cool. The animation and the graphics ' 'were out of this world. I would recommend this movie.')\n",
    "predictions = model.predict(np.array([sample_text]))\n",
    "print(predictions[0])\n",
    "[-0.00367973]\n",
    "# predict on a sample text with padding\n",
    "padding = \"the \" * 2000\n",
    "predictions = model.predict(np.array([sample_text, padding]))\n",
    "print(predictions[0])\n",
    "[-0.00367973]\n",
    "model.compile(loss=tf.keras.losses.BinaryCrossentropy(from_logits=True),\n",
    "optimizer=tf.keras.optimizers.Adam(1e-4),\n",
    "metrics=['accuracy'])\n",
    "history = model.fit(train_dataset, epochs=10,\n",
    "validation_data=test_dataset,\n",
    "validation_steps=30)\n",
    "test_loss, test_acc = model.evaluate(test_dataset)\n",
    "print('Test Loss:', test_loss)\n",
    "print('Test Accuracy:', test_acc)\n",
    "plt.figure(figsize=(16, 8))\n",
    "plt.subplot(1, 2, 1)\n",
    "plot_graphs(history, 'accuracy')\n",
    "plt.ylim(None, 1)\n",
    "plt.subplot(1, 2, 2)\n",
    "plot_graphs(history, 'loss')\n",
    "plt.ylim(0, None)"
   ]
  },
  {
   "cell_type": "code",
   "execution_count": null,
   "id": "3e256e69-b644-4344-87aa-f7069508c5d3",
   "metadata": {},
   "outputs": [],
   "source": []
  }
 ],
 "metadata": {
  "kernelspec": {
   "display_name": "Python 3 (ipykernel)",
   "language": "python",
   "name": "python3"
  },
  "language_info": {
   "codemirror_mode": {
    "name": "ipython",
    "version": 3
   },
   "file_extension": ".py",
   "mimetype": "text/x-python",
   "name": "python",
   "nbconvert_exporter": "python",
   "pygments_lexer": "ipython3",
   "version": "3.11.5"
  },
  "widgets": {
   "application/vnd.jupyter.widget-state+json": {
    "state": {},
    "version_major": 2,
    "version_minor": 0
   }
  }
 },
 "nbformat": 4,
 "nbformat_minor": 5
}
